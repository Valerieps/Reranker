{
 "cells": [
  {
   "cell_type": "code",
   "execution_count": 3,
   "id": "b7ebef0d-74f5-4993-b834-12aec3811d62",
   "metadata": {},
   "outputs": [
    {
     "name": "stdout",
     "output_type": "stream",
     "text": [
      "Collecting package metadata (current_repodata.json): done\n",
      "Solving environment: done\n",
      "\n",
      "## Package Plan ##\n",
      "\n",
      "  environment location: /home/vesper/miniconda3/envs/reranker\n",
      "\n",
      "  added / updated specs:\n",
      "    - pandas\n",
      "\n",
      "\n",
      "The following NEW packages will be INSTALLED:\n",
      "\n",
      "  pandas             conda-forge/linux-64::pandas-1.3.0-py39hde0f152_0\n",
      "\n",
      "\n",
      "Preparing transaction: done\n",
      "Verifying transaction: done\n",
      "Executing transaction: done\n"
     ]
    }
   ],
   "source": [
    "!conda install -y pandas"
   ]
  },
  {
   "cell_type": "code",
   "execution_count": 1,
   "id": "38c3c041-2d74-4f27-b16b-9fd9d2bd7413",
   "metadata": {},
   "outputs": [
    {
     "ename": "AttributeError",
     "evalue": "module 'pyarrow' has no attribute '__version__'",
     "output_type": "error",
     "traceback": [
      "\u001b[0;31m---------------------------------------------------------------------------\u001b[0m",
      "\u001b[0;31mAttributeError\u001b[0m                            Traceback (most recent call last)",
      "\u001b[0;32m/tmp/ipykernel_69566/498974037.py\u001b[0m in \u001b[0;36m<module>\u001b[0;34m\u001b[0m\n\u001b[0;32m----> 1\u001b[0;31m \u001b[0;32mimport\u001b[0m \u001b[0mpandas\u001b[0m\u001b[0;34m\u001b[0m\u001b[0;34m\u001b[0m\u001b[0m\n\u001b[0m\u001b[1;32m      2\u001b[0m \u001b[0;34m\u001b[0m\u001b[0m\n\u001b[1;32m      3\u001b[0m \u001b[0mfile\u001b[0m \u001b[0;34m=\u001b[0m \u001b[0;34m\"data/msmarco-docs.tsv\"\u001b[0m\u001b[0;34m\u001b[0m\u001b[0;34m\u001b[0m\u001b[0m\n\u001b[1;32m      4\u001b[0m \u001b[0;34m\u001b[0m\u001b[0m\n\u001b[1;32m      5\u001b[0m \u001b[0mdocs\u001b[0m \u001b[0;34m=\u001b[0m \u001b[0mpandas\u001b[0m\u001b[0;34m.\u001b[0m\u001b[0mread_csv\u001b[0m\u001b[0;34m(\u001b[0m\u001b[0mfile\u001b[0m\u001b[0;34m,\u001b[0m \u001b[0msep\u001b[0m\u001b[0;34m=\u001b[0m\u001b[0;34m\"\\t\"\u001b[0m\u001b[0;34m,\u001b[0m \u001b[0mchunksize\u001b[0m \u001b[0;34m=\u001b[0m \u001b[0;36m100\u001b[0m\u001b[0;34m,\u001b[0m \u001b[0mnames\u001b[0m \u001b[0;34m=\u001b[0m \u001b[0;34m[\u001b[0m\u001b[0;34m\"docid\"\u001b[0m\u001b[0;34m,\u001b[0m \u001b[0;34m\"url\"\u001b[0m\u001b[0;34m,\u001b[0m \u001b[0;34m\"title\"\u001b[0m\u001b[0;34m,\u001b[0m \u001b[0;34m\"body\"\u001b[0m\u001b[0;34m]\u001b[0m\u001b[0;34m)\u001b[0m\u001b[0;34m\u001b[0m\u001b[0;34m\u001b[0m\u001b[0m\n",
      "\u001b[0;32m~/miniconda3/envs/reranker/lib/python3.9/site-packages/pandas/__init__.py\u001b[0m in \u001b[0;36m<module>\u001b[0;34m\u001b[0m\n\u001b[1;32m     20\u001b[0m \u001b[0;34m\u001b[0m\u001b[0m\n\u001b[1;32m     21\u001b[0m \u001b[0;31m# numpy compat\u001b[0m\u001b[0;34m\u001b[0m\u001b[0;34m\u001b[0m\u001b[0;34m\u001b[0m\u001b[0m\n\u001b[0;32m---> 22\u001b[0;31m from pandas.compat import (\n\u001b[0m\u001b[1;32m     23\u001b[0m     \u001b[0mnp_version_under1p18\u001b[0m \u001b[0;32mas\u001b[0m \u001b[0m_np_version_under1p18\u001b[0m\u001b[0;34m,\u001b[0m\u001b[0;34m\u001b[0m\u001b[0;34m\u001b[0m\u001b[0m\n\u001b[1;32m     24\u001b[0m     \u001b[0mis_numpy_dev\u001b[0m \u001b[0;32mas\u001b[0m \u001b[0m_is_numpy_dev\u001b[0m\u001b[0;34m,\u001b[0m\u001b[0;34m\u001b[0m\u001b[0;34m\u001b[0m\u001b[0m\n",
      "\u001b[0;32m~/miniconda3/envs/reranker/lib/python3.9/site-packages/pandas/compat/__init__.py\u001b[0m in \u001b[0;36m<module>\u001b[0;34m\u001b[0m\n\u001b[1;32m     21\u001b[0m     \u001b[0mnp_version_under1p20\u001b[0m\u001b[0;34m,\u001b[0m\u001b[0;34m\u001b[0m\u001b[0;34m\u001b[0m\u001b[0m\n\u001b[1;32m     22\u001b[0m )\n\u001b[0;32m---> 23\u001b[0;31m from pandas.compat.pyarrow import (\n\u001b[0m\u001b[1;32m     24\u001b[0m     \u001b[0mpa_version_under1p0\u001b[0m\u001b[0;34m,\u001b[0m\u001b[0;34m\u001b[0m\u001b[0;34m\u001b[0m\u001b[0m\n\u001b[1;32m     25\u001b[0m     \u001b[0mpa_version_under2p0\u001b[0m\u001b[0;34m,\u001b[0m\u001b[0;34m\u001b[0m\u001b[0;34m\u001b[0m\u001b[0m\n",
      "\u001b[0;32m~/miniconda3/envs/reranker/lib/python3.9/site-packages/pandas/compat/pyarrow.py\u001b[0m in \u001b[0;36m<module>\u001b[0;34m\u001b[0m\n\u001b[1;32m      6\u001b[0m     \u001b[0;32mimport\u001b[0m \u001b[0mpyarrow\u001b[0m \u001b[0;32mas\u001b[0m \u001b[0mpa\u001b[0m\u001b[0;34m\u001b[0m\u001b[0;34m\u001b[0m\u001b[0m\n\u001b[1;32m      7\u001b[0m \u001b[0;34m\u001b[0m\u001b[0m\n\u001b[0;32m----> 8\u001b[0;31m     \u001b[0m_pa_version\u001b[0m \u001b[0;34m=\u001b[0m \u001b[0mpa\u001b[0m\u001b[0;34m.\u001b[0m\u001b[0m__version__\u001b[0m\u001b[0;34m\u001b[0m\u001b[0;34m\u001b[0m\u001b[0m\n\u001b[0m\u001b[1;32m      9\u001b[0m     \u001b[0m_palv\u001b[0m \u001b[0;34m=\u001b[0m \u001b[0mVersion\u001b[0m\u001b[0;34m(\u001b[0m\u001b[0m_pa_version\u001b[0m\u001b[0;34m)\u001b[0m\u001b[0;34m\u001b[0m\u001b[0;34m\u001b[0m\u001b[0m\n\u001b[1;32m     10\u001b[0m     \u001b[0mpa_version_under1p0\u001b[0m \u001b[0;34m=\u001b[0m \u001b[0m_palv\u001b[0m \u001b[0;34m<\u001b[0m \u001b[0mVersion\u001b[0m\u001b[0;34m(\u001b[0m\u001b[0;34m\"1.0.0\"\u001b[0m\u001b[0;34m)\u001b[0m\u001b[0;34m\u001b[0m\u001b[0;34m\u001b[0m\u001b[0m\n",
      "\u001b[0;31mAttributeError\u001b[0m: module 'pyarrow' has no attribute '__version__'"
     ]
    }
   ],
   "source": [
    "import pandas\n",
    "\n",
    "file = \"data/msmarco-docs.tsv\"\n",
    "\n",
    "docs = pandas.read_csv(file, sep=\"\\t\", chunksize = 100, names = [\"docid\", \"url\", \"title\", \"body\"])"
   ]
  },
  {
   "cell_type": "code",
   "execution_count": 22,
   "id": "213e62e2-6338-459b-9905-48e1c07034e5",
   "metadata": {},
   "outputs": [
    {
     "name": "stdout",
     "output_type": "stream",
     "text": [
      "0\n",
      "1\n",
      "2\n",
      "3\n",
      "4\n",
      "5\n",
      "6\n",
      "7\n",
      "8\n",
      "9\n",
      "10\n",
      "11\n",
      "12\n",
      "13\n",
      "14\n",
      "15\n",
      "16\n"
     ]
    }
   ],
   "source": [
    "achei = None\n",
    "for i, chunk in enumerate(docs):\n",
    "    print(i)\n",
    "    doc_test = chunk[chunk.isin([\"D312959\"])[\"docid\"]]\n",
    "    if len(doc_test) == 1:\n",
    "        achei = doc_test\n",
    "        break"
   ]
  },
  {
   "cell_type": "code",
   "execution_count": 23,
   "id": "07f7156c-1777-4ee7-80d0-2114c0a8a800",
   "metadata": {},
   "outputs": [
    {
     "data": {
      "text/html": [
       "<div>\n",
       "<style scoped>\n",
       "    .dataframe tbody tr th:only-of-type {\n",
       "        vertical-align: middle;\n",
       "    }\n",
       "\n",
       "    .dataframe tbody tr th {\n",
       "        vertical-align: top;\n",
       "    }\n",
       "\n",
       "    .dataframe thead th {\n",
       "        text-align: right;\n",
       "    }\n",
       "</style>\n",
       "<table border=\"1\" class=\"dataframe\">\n",
       "  <thead>\n",
       "    <tr style=\"text-align: right;\">\n",
       "      <th></th>\n",
       "      <th>docid</th>\n",
       "      <th>url</th>\n",
       "      <th>title</th>\n",
       "      <th>body</th>\n",
       "    </tr>\n",
       "  </thead>\n",
       "  <tbody>\n",
       "    <tr>\n",
       "      <th>895028</th>\n",
       "      <td>D312959</td>\n",
       "      <td>https://en.wikipedia.org/wiki/Visual_cortex</td>\n",
       "      <td>Visual cortex</td>\n",
       "      <td>From Wikipedia, the free encyclopedianavigatio...</td>\n",
       "    </tr>\n",
       "  </tbody>\n",
       "</table>\n",
       "</div>"
      ],
      "text/plain": [
       "          docid                                          url          title  \\\n",
       "895028  D312959  https://en.wikipedia.org/wiki/Visual_cortex  Visual cortex   \n",
       "\n",
       "                                                     body  \n",
       "895028  From Wikipedia, the free encyclopedianavigatio...  "
      ]
     },
     "execution_count": 23,
     "metadata": {},
     "output_type": "execute_result"
    }
   ],
   "source": [
    "achei"
   ]
  },
  {
   "cell_type": "markdown",
   "id": "afda44d5-e16d-4224-ada9-382047a119d0",
   "metadata": {},
   "source": [
    "# ================ Qrels - relevance judgments ================\n",
    "\n",
    "The format of a qrels file is as follows:  \n",
    "\n",
    "TOPIC      ITERATION      DOCUMENT#      RELEVANCY  \n",
    "\n",
    "where **TOPIC** is the topic number,  \n",
    "**ITERATION** is the feedback iteration (almost always zero and not used),  \n",
    "**DOCUMENT** is the official document number that corresponds to the \"docno\" field in the documents, and  \n",
    "**RELEVANCY** is a binary code of 0 for not relevant and 1 for relevant.  \n",
    "\n",
    "Sample Qrels File:\n",
    "\n",
    "1 0 AP880212-0161 0  \n",
    "1 0 AP880216-0139 1  \n",
    "1 0 AP880216-0169 0  \n",
    "1 0 AP880217-0026 0  \n",
    "1 0 AP880217-0030 0  \n",
    "\n",
    "* The order of documents in a qrels file is not indicative of relevance or degree of relevance. \n",
    "* Only a binary indication of relevant (1) or non-relevant (0) is given. \n",
    "* Documents not occurring in the qrels file were not judged by the human assessor and are assumed to be irrelevant in the evaluations used in TREC. \n",
    "* The human assessors are told to judge a document relevant if any piece of the document is relevant (regardless of how small the piece is in relation to the rest of the document)."
   ]
  },
  {
   "cell_type": "code",
   "execution_count": 25,
   "id": "a20d404a-f413-4857-a3e6-fb162b2868c2",
   "metadata": {},
   "outputs": [
    {
     "data": {
      "text/html": [
       "<div>\n",
       "<style scoped>\n",
       "    .dataframe tbody tr th:only-of-type {\n",
       "        vertical-align: middle;\n",
       "    }\n",
       "\n",
       "    .dataframe tbody tr th {\n",
       "        vertical-align: top;\n",
       "    }\n",
       "\n",
       "    .dataframe thead th {\n",
       "        text-align: right;\n",
       "    }\n",
       "</style>\n",
       "<table border=\"1\" class=\"dataframe\">\n",
       "  <thead>\n",
       "    <tr style=\"text-align: right;\">\n",
       "      <th></th>\n",
       "      <th>topic</th>\n",
       "      <th>iteration</th>\n",
       "      <th>docid</th>\n",
       "      <th>relevancy</th>\n",
       "    </tr>\n",
       "  </thead>\n",
       "  <tbody>\n",
       "    <tr>\n",
       "      <th>0</th>\n",
       "      <td>3</td>\n",
       "      <td>0</td>\n",
       "      <td>D312959</td>\n",
       "      <td>1</td>\n",
       "    </tr>\n",
       "    <tr>\n",
       "      <th>1</th>\n",
       "      <td>5</td>\n",
       "      <td>0</td>\n",
       "      <td>D140227</td>\n",
       "      <td>1</td>\n",
       "    </tr>\n",
       "    <tr>\n",
       "      <th>2</th>\n",
       "      <td>12</td>\n",
       "      <td>0</td>\n",
       "      <td>D213890</td>\n",
       "      <td>1</td>\n",
       "    </tr>\n",
       "    <tr>\n",
       "      <th>3</th>\n",
       "      <td>15</td>\n",
       "      <td>0</td>\n",
       "      <td>D1033338</td>\n",
       "      <td>1</td>\n",
       "    </tr>\n",
       "    <tr>\n",
       "      <th>4</th>\n",
       "      <td>16</td>\n",
       "      <td>0</td>\n",
       "      <td>D508131</td>\n",
       "      <td>1</td>\n",
       "    </tr>\n",
       "    <tr>\n",
       "      <th>5</th>\n",
       "      <td>18</td>\n",
       "      <td>0</td>\n",
       "      <td>D2286511</td>\n",
       "      <td>1</td>\n",
       "    </tr>\n",
       "    <tr>\n",
       "      <th>6</th>\n",
       "      <td>24</td>\n",
       "      <td>0</td>\n",
       "      <td>D69114</td>\n",
       "      <td>1</td>\n",
       "    </tr>\n",
       "    <tr>\n",
       "      <th>7</th>\n",
       "      <td>26</td>\n",
       "      <td>0</td>\n",
       "      <td>D1350520</td>\n",
       "      <td>1</td>\n",
       "    </tr>\n",
       "    <tr>\n",
       "      <th>8</th>\n",
       "      <td>31</td>\n",
       "      <td>0</td>\n",
       "      <td>D304123</td>\n",
       "      <td>1</td>\n",
       "    </tr>\n",
       "    <tr>\n",
       "      <th>9</th>\n",
       "      <td>42</td>\n",
       "      <td>0</td>\n",
       "      <td>D1439360</td>\n",
       "      <td>1</td>\n",
       "    </tr>\n",
       "  </tbody>\n",
       "</table>\n",
       "</div>"
      ],
      "text/plain": [
       "   topic  iteration     docid  relevancy\n",
       "0      3          0   D312959          1\n",
       "1      5          0   D140227          1\n",
       "2     12          0   D213890          1\n",
       "3     15          0  D1033338          1\n",
       "4     16          0   D508131          1\n",
       "5     18          0  D2286511          1\n",
       "6     24          0    D69114          1\n",
       "7     26          0  D1350520          1\n",
       "8     31          0   D304123          1\n",
       "9     42          0  D1439360          1"
      ]
     },
     "execution_count": 25,
     "metadata": {},
     "output_type": "execute_result"
    }
   ],
   "source": [
    "import pandas\n",
    "\n",
    "file = \"data/msmarco-doctrain-qrels.tsv\"\n",
    "\n",
    "qrels = pandas.read_csv(file, sep=\" \", names=[\"topic\", \"iteration\", \"docid\", \"relevancy\"])\n",
    "# qrels_chunk = qrels.get_chunk()\n",
    "qrels.head(10)"
   ]
  },
  {
   "cell_type": "code",
   "execution_count": 26,
   "id": "3c714c83-acc5-4e14-859f-ba5ba299ed72",
   "metadata": {},
   "outputs": [
    {
     "data": {
      "text/plain": [
       "367013"
      ]
     },
     "execution_count": 26,
     "metadata": {},
     "output_type": "execute_result"
    }
   ],
   "source": [
    "len(qrels)"
   ]
  },
  {
   "cell_type": "code",
   "execution_count": 60,
   "id": "d9e2d354-e2ad-4a70-a798-3240d2a9b751",
   "metadata": {},
   "outputs": [],
   "source": [
    "unique_docs = qrels['docid']"
   ]
  },
  {
   "cell_type": "code",
   "execution_count": 64,
   "id": "867ef74f-0dea-4d2a-9671-c92fff4e6afc",
   "metadata": {},
   "outputs": [],
   "source": [
    "unique_docs = set(unique_docs)"
   ]
  },
  {
   "cell_type": "code",
   "execution_count": 65,
   "id": "0439f437-9ecb-424f-a179-3bfaa2e41ad0",
   "metadata": {},
   "outputs": [
    {
     "data": {
      "text/plain": [
       "319927"
      ]
     },
     "execution_count": 65,
     "metadata": {},
     "output_type": "execute_result"
    }
   ],
   "source": [
    "len(unique_docs)"
   ]
  },
  {
   "cell_type": "code",
   "execution_count": 27,
   "id": "0d7a4fae-6c9e-4e32-996e-029dee01888c",
   "metadata": {},
   "outputs": [
    {
     "data": {
      "text/plain": [
       "4"
      ]
     },
     "execution_count": 27,
     "metadata": {},
     "output_type": "execute_result"
    }
   ],
   "source": [
    "len(qrels.columns)"
   ]
  },
  {
   "cell_type": "markdown",
   "id": "cd789721-0f9d-4e8b-a955-1751a22bbefd",
   "metadata": {},
   "source": [
    "- pegar os unique docs e manter apenas os doc completo que tem qrel"
   ]
  },
  {
   "cell_type": "code",
   "execution_count": 83,
   "id": "6b331ddc-2da7-4d3b-be99-b1937128b8fb",
   "metadata": {},
   "outputs": [
    {
     "name": "stdout",
     "output_type": "stream",
     "text": [
      "chunk num 0\n",
      "achou 5129 linhas\n",
      "len do df final 5129\n",
      "chunk num 1\n",
      "achou 5115 linhas\n",
      "len do df final 10244\n",
      "chunk num 2\n",
      "achou 4842 linhas\n",
      "len do df final 15086\n",
      "chunk num 3\n",
      "achou 5054 linhas\n",
      "len do df final 20140\n",
      "chunk num 4\n",
      "achou 5078 linhas\n",
      "len do df final 25218\n",
      "chunk num 5\n",
      "achou 5034 linhas\n",
      "len do df final 30252\n",
      "chunk num 6\n",
      "achou 4964 linhas\n",
      "len do df final 35216\n",
      "chunk num 7\n",
      "achou 4855 linhas\n",
      "len do df final 40071\n",
      "chunk num 8\n",
      "achou 5024 linhas\n",
      "len do df final 45095\n",
      "chunk num 9\n",
      "achou 4971 linhas\n",
      "len do df final 50066\n",
      "chunk num 10\n",
      "achou 5098 linhas\n",
      "len do df final 55164\n",
      "chunk num 11\n",
      "achou 4894 linhas\n",
      "len do df final 60058\n",
      "chunk num 12\n",
      "achou 5014 linhas\n",
      "len do df final 65072\n",
      "chunk num 13\n",
      "achou 4937 linhas\n",
      "len do df final 70009\n",
      "chunk num 14\n",
      "achou 4817 linhas\n",
      "len do df final 74826\n",
      "chunk num 15\n",
      "achou 5028 linhas\n",
      "len do df final 79854\n",
      "chunk num 16\n",
      "achou 5039 linhas\n",
      "len do df final 84893\n",
      "chunk num 17\n",
      "achou 5144 linhas\n",
      "len do df final 90037\n",
      "chunk num 18\n",
      "achou 5047 linhas\n",
      "len do df final 95084\n",
      "chunk num 19\n",
      "achou 4976 linhas\n",
      "len do df final 100060\n",
      "chunk num 20\n",
      "achou 4897 linhas\n",
      "len do df final 104957\n",
      "chunk num 21\n",
      "achou 4948 linhas\n",
      "len do df final 109905\n",
      "chunk num 22\n",
      "achou 4925 linhas\n",
      "len do df final 114830\n",
      "chunk num 23\n",
      "achou 4914 linhas\n",
      "len do df final 119744\n",
      "chunk num 24\n",
      "achou 5075 linhas\n",
      "len do df final 124819\n",
      "chunk num 25\n",
      "achou 5051 linhas\n",
      "len do df final 129870\n",
      "chunk num 26\n",
      "achou 5010 linhas\n",
      "len do df final 134880\n",
      "chunk num 27\n",
      "achou 4900 linhas\n",
      "len do df final 139780\n",
      "chunk num 28\n",
      "achou 5069 linhas\n",
      "len do df final 144849\n",
      "chunk num 29\n",
      "achou 4911 linhas\n",
      "len do df final 149760\n",
      "chunk num 30\n",
      "achou 5058 linhas\n",
      "len do df final 154818\n",
      "chunk num 31\n",
      "achou 5001 linhas\n",
      "len do df final 159819\n",
      "chunk num 32\n",
      "achou 4909 linhas\n",
      "len do df final 164728\n",
      "chunk num 33\n",
      "achou 4905 linhas\n",
      "len do df final 169633\n",
      "chunk num 34\n",
      "achou 4989 linhas\n",
      "len do df final 174622\n",
      "chunk num 35\n",
      "achou 4911 linhas\n",
      "len do df final 179533\n",
      "chunk num 36\n",
      "achou 4968 linhas\n",
      "len do df final 184501\n",
      "chunk num 37\n",
      "achou 5002 linhas\n",
      "len do df final 189503\n",
      "chunk num 38\n",
      "achou 5027 linhas\n",
      "len do df final 194530\n",
      "chunk num 39\n",
      "achou 4905 linhas\n",
      "len do df final 199435\n",
      "chunk num 40\n",
      "achou 4937 linhas\n",
      "len do df final 204372\n",
      "chunk num 41\n",
      "achou 5092 linhas\n",
      "len do df final 209464\n",
      "chunk num 42\n",
      "achou 5087 linhas\n",
      "len do df final 214551\n",
      "chunk num 43\n",
      "achou 4899 linhas\n",
      "len do df final 219450\n",
      "chunk num 44\n",
      "achou 4978 linhas\n",
      "len do df final 224428\n",
      "chunk num 45\n",
      "achou 4781 linhas\n",
      "len do df final 229209\n",
      "chunk num 46\n",
      "achou 5048 linhas\n",
      "len do df final 234257\n",
      "chunk num 47\n",
      "achou 4878 linhas\n",
      "len do df final 239135\n",
      "chunk num 48\n",
      "achou 5085 linhas\n",
      "len do df final 244220\n",
      "chunk num 49\n",
      "achou 4868 linhas\n",
      "len do df final 249088\n",
      "chunk num 50\n",
      "achou 4993 linhas\n",
      "len do df final 254081\n",
      "chunk num 51\n",
      "achou 5059 linhas\n",
      "len do df final 259140\n",
      "chunk num 52\n",
      "achou 5006 linhas\n",
      "len do df final 264146\n",
      "chunk num 53\n",
      "achou 4984 linhas\n",
      "len do df final 269130\n",
      "chunk num 54\n",
      "achou 5025 linhas\n",
      "len do df final 274155\n",
      "chunk num 55\n",
      "achou 4905 linhas\n",
      "len do df final 279060\n",
      "chunk num 56\n",
      "achou 4821 linhas\n",
      "len do df final 283881\n",
      "chunk num 57\n",
      "achou 4850 linhas\n",
      "len do df final 288731\n",
      "chunk num 58\n",
      "achou 4979 linhas\n",
      "len do df final 293710\n",
      "chunk num 59\n",
      "achou 4971 linhas\n",
      "len do df final 298681\n",
      "chunk num 60\n",
      "achou 4907 linhas\n",
      "len do df final 303588\n",
      "chunk num 61\n",
      "achou 5033 linhas\n",
      "len do df final 308621\n",
      "chunk num 62\n",
      "achou 4974 linhas\n",
      "len do df final 313595\n",
      "chunk num 63\n",
      "achou 4928 linhas\n",
      "len do df final 318523\n",
      "chunk num 64\n",
      "achou 1404 linhas\n",
      "len do df final 319927\n"
     ]
    }
   ],
   "source": [
    "docs_that_have_qrel = pandas.DataFrame()\n",
    "for i, chunk in enumerate(docs):\n",
    "    print(\"chunk num\", i)\n",
    "    \n",
    "    # filtrar linhas cujo docid esteja no unique_docs\n",
    "    rows_with_qrels = chunk.loc[chunk['docid'].isin(unique_docs)]\n",
    "    print(f\"achou {len(rows_with_qrels)} linhas\")\n",
    "    docs_that_have_qrel = docs_that_have_qrel.append(rows_with_qrels)\n",
    "    print(\"len do df final\", len(docs_that_have_qrel))"
   ]
  },
  {
   "cell_type": "code",
   "execution_count": 84,
   "id": "2caa06d6-737b-499e-83e7-79f060595438",
   "metadata": {},
   "outputs": [],
   "source": [
    "docs_that_have_qrel.to_csv('docs_that_have_qrel.tsv', sep = '\\t', index=False)"
   ]
  },
  {
   "cell_type": "code",
   "execution_count": null,
   "id": "df7fb08c-46b5-4d43-9b95-40521104163a",
   "metadata": {},
   "outputs": [],
   "source": []
  },
  {
   "cell_type": "code",
   "execution_count": null,
   "id": "0a68c9fd-b017-4c4c-9854-6f006938c064",
   "metadata": {},
   "outputs": [],
   "source": []
  },
  {
   "cell_type": "code",
   "execution_count": null,
   "id": "e8e7a554-e6cb-42e8-8406-92f10dba64ee",
   "metadata": {},
   "outputs": [],
   "source": []
  },
  {
   "cell_type": "code",
   "execution_count": 30,
   "id": "b78a90ff-59be-4adb-8f76-0da93f3d7e30",
   "metadata": {},
   "outputs": [
    {
     "data": {
      "text/html": [
       "<div>\n",
       "<style scoped>\n",
       "    .dataframe tbody tr th:only-of-type {\n",
       "        vertical-align: middle;\n",
       "    }\n",
       "\n",
       "    .dataframe tbody tr th {\n",
       "        vertical-align: top;\n",
       "    }\n",
       "\n",
       "    .dataframe thead th {\n",
       "        text-align: right;\n",
       "    }\n",
       "</style>\n",
       "<table border=\"1\" class=\"dataframe\">\n",
       "  <thead>\n",
       "    <tr style=\"text-align: right;\">\n",
       "      <th></th>\n",
       "      <th>topic</th>\n",
       "      <th>iteration</th>\n",
       "      <th>docid</th>\n",
       "      <th>relevancy</th>\n",
       "    </tr>\n",
       "  </thead>\n",
       "  <tbody>\n",
       "    <tr>\n",
       "      <th>0</th>\n",
       "      <td>3</td>\n",
       "      <td>0</td>\n",
       "      <td>D312959</td>\n",
       "      <td>1</td>\n",
       "    </tr>\n",
       "    <tr>\n",
       "      <th>159341</th>\n",
       "      <td>537619</td>\n",
       "      <td>0</td>\n",
       "      <td>D312959</td>\n",
       "      <td>1</td>\n",
       "    </tr>\n",
       "  </tbody>\n",
       "</table>\n",
       "</div>"
      ],
      "text/plain": [
       "         topic  iteration    docid  relevancy\n",
       "0            3          0  D312959          1\n",
       "159341  537619          0  D312959          1"
      ]
     },
     "execution_count": 30,
     "metadata": {},
     "output_type": "execute_result"
    }
   ],
   "source": [
    "qrel_test = qrels[qrels.isin([\"D312959\"])[\"docid\"]]\n",
    "qrel_test"
   ]
  },
  {
   "cell_type": "code",
   "execution_count": 57,
   "id": "5688a983-5b3f-4f16-b9e2-8a1710ac42dd",
   "metadata": {},
   "outputs": [],
   "source": [
    "texto_completo = achei.iloc[0]['body']"
   ]
  },
  {
   "cell_type": "code",
   "execution_count": 58,
   "id": "173d6442-054e-4ac7-8303-20a5b7c08919",
   "metadata": {},
   "outputs": [
    {
     "data": {
      "text/plain": [
       "38346"
      ]
     },
     "execution_count": 58,
     "metadata": {},
     "output_type": "execute_result"
    }
   ],
   "source": [
    "len(texto_completo)"
   ]
  },
  {
   "cell_type": "code",
   "execution_count": 59,
   "id": "7d9fc8d3-404f-4611-b697-4733a337aad0",
   "metadata": {},
   "outputs": [
    {
     "data": {
      "text/plain": [
       "'From Wikipedia, the free encyclopedianavigation search Visual cortex View of the brain from behind. '"
      ]
     },
     "execution_count": 59,
     "metadata": {},
     "output_type": "execute_result"
    }
   ],
   "source": [
    "texto_completo[:100]"
   ]
  },
  {
   "cell_type": "markdown",
   "id": "2b4a7798-e3c7-4da4-ba4e-a4916e537bef",
   "metadata": {},
   "source": [
    "# Queries"
   ]
  },
  {
   "cell_type": "code",
   "execution_count": 36,
   "id": "7051e571-4eaf-4b73-9df0-680682477a58",
   "metadata": {},
   "outputs": [],
   "source": [
    "import pandas\n",
    "\n",
    "file = \"data/msmarco-doctrain-queries.tsv\"\n",
    "\n",
    "queries = pandas.read_csv(file, sep=\"\\t\", names = [\"qid\", \"query\"])"
   ]
  },
  {
   "cell_type": "code",
   "execution_count": 44,
   "id": "8573f3fb-2778-4abf-bbab-aafa598638ac",
   "metadata": {},
   "outputs": [],
   "source": [
    "query_test_1 = queries[queries.isin([3])[\"qid\"]]\n",
    "query_test_2 = queries[queries.isin([537619])[\"qid\"]]"
   ]
  },
  {
   "cell_type": "code",
   "execution_count": 45,
   "id": "db5f255a-094f-40f1-819b-ea129b639bb4",
   "metadata": {},
   "outputs": [
    {
     "data": {
      "text/html": [
       "<div>\n",
       "<style scoped>\n",
       "    .dataframe tbody tr th:only-of-type {\n",
       "        vertical-align: middle;\n",
       "    }\n",
       "\n",
       "    .dataframe tbody tr th {\n",
       "        vertical-align: top;\n",
       "    }\n",
       "\n",
       "    .dataframe thead th {\n",
       "        text-align: right;\n",
       "    }\n",
       "</style>\n",
       "<table border=\"1\" class=\"dataframe\">\n",
       "  <thead>\n",
       "    <tr style=\"text-align: right;\">\n",
       "      <th></th>\n",
       "      <th>qid</th>\n",
       "      <th>query</th>\n",
       "    </tr>\n",
       "  </thead>\n",
       "  <tbody>\n",
       "    <tr>\n",
       "      <th>48698</th>\n",
       "      <td>3</td>\n",
       "      <td>another name for the primary visual cortex is</td>\n",
       "    </tr>\n",
       "  </tbody>\n",
       "</table>\n",
       "</div>"
      ],
      "text/plain": [
       "       qid                                            query\n",
       "48698    3   another name for the primary visual cortex is "
      ]
     },
     "execution_count": 45,
     "metadata": {},
     "output_type": "execute_result"
    }
   ],
   "source": [
    "query_test_1"
   ]
  },
  {
   "cell_type": "code",
   "execution_count": 46,
   "id": "fe4e483c-161d-4f76-8691-5128fbbac4f5",
   "metadata": {},
   "outputs": [
    {
     "data": {
      "text/html": [
       "<div>\n",
       "<style scoped>\n",
       "    .dataframe tbody tr th:only-of-type {\n",
       "        vertical-align: middle;\n",
       "    }\n",
       "\n",
       "    .dataframe tbody tr th {\n",
       "        vertical-align: top;\n",
       "    }\n",
       "\n",
       "    .dataframe thead th {\n",
       "        text-align: right;\n",
       "    }\n",
       "</style>\n",
       "<table border=\"1\" class=\"dataframe\">\n",
       "  <thead>\n",
       "    <tr style=\"text-align: right;\">\n",
       "      <th></th>\n",
       "      <th>qid</th>\n",
       "      <th>query</th>\n",
       "    </tr>\n",
       "  </thead>\n",
       "  <tbody>\n",
       "    <tr>\n",
       "      <th>362903</th>\n",
       "      <td>537619</td>\n",
       "      <td>visual cortex of brain</td>\n",
       "    </tr>\n",
       "  </tbody>\n",
       "</table>\n",
       "</div>"
      ],
      "text/plain": [
       "           qid                   query\n",
       "362903  537619  visual cortex of brain"
      ]
     },
     "execution_count": 46,
     "metadata": {},
     "output_type": "execute_result"
    }
   ],
   "source": [
    "query_test_2"
   ]
  },
  {
   "cell_type": "code",
   "execution_count": null,
   "id": "466d0b65-fcee-451c-a3ca-558923b44c25",
   "metadata": {},
   "outputs": [],
   "source": []
  }
 ],
 "metadata": {
  "kernelspec": {
   "display_name": "Python 3 (ipykernel)",
   "language": "python",
   "name": "python3"
  },
  "language_info": {
   "codemirror_mode": {
    "name": "ipython",
    "version": 3
   },
   "file_extension": ".py",
   "mimetype": "text/x-python",
   "name": "python",
   "nbconvert_exporter": "python",
   "pygments_lexer": "ipython3",
   "version": "3.9.5"
  }
 },
 "nbformat": 4,
 "nbformat_minor": 5
}
